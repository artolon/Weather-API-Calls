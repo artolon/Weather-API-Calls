{
 "cells": [
  {
   "cell_type": "code",
   "execution_count": 1,
   "id": "9def1e12",
   "metadata": {},
   "outputs": [],
   "source": [
    "from api_keys import api_key\n",
    "\n",
    "# import a variable named api_key from the api_keys.py file you created\n",
    "## The file is called api_keys\n",
    "## The interpreter assumes its a .py file, so you do not need to specify in the code"
   ]
  },
  {
   "cell_type": "code",
   "execution_count": 2,
   "id": "b5aaf6ff",
   "metadata": {},
   "outputs": [
    {
     "name": "stdout",
     "output_type": "stream",
     "text": [
      "1a9ad16288078370dc37e5814b6bd358\n"
     ]
    }
   ],
   "source": [
    "print(api_key)"
   ]
  },
  {
   "cell_type": "code",
   "execution_count": 4,
   "id": "77bae370",
   "metadata": {},
   "outputs": [],
   "source": [
    "import requests\n",
    "import pandas as pd"
   ]
  },
  {
   "cell_type": "code",
   "execution_count": 5,
   "id": "88e53f44",
   "metadata": {},
   "outputs": [
    {
     "name": "stdout",
     "output_type": "stream",
     "text": [
      "<!doctype html>\n",
      "<html>\n",
      "<head>\n",
      "    <title>Example Domain</title>\n",
      "\n",
      "    <meta charset=\"utf-8\" />\n",
      "    <meta http-equiv=\"Content-type\" content=\"text/html; charset=utf-8\" />\n",
      "    <meta name=\"viewport\" content=\"width=device-width, initial-scale=1\" />\n",
      "    <style type=\"text/css\">\n",
      "    body {\n",
      "        background-color: #f0f0f2;\n",
      "        margin: 0;\n",
      "        padding: 0;\n",
      "        font-family: -apple-system, system-ui, BlinkMacSystemFont, \"Segoe UI\", \"Open Sans\", \"Helvetica Neue\", Helvetica, Arial, sans-serif;\n",
      "        \n",
      "    }\n",
      "    div {\n",
      "        width: 600px;\n",
      "        margin: 5em auto;\n",
      "        padding: 2em;\n",
      "        background-color: #fdfdff;\n",
      "        border-radius: 0.5em;\n",
      "        box-shadow: 2px 3px 7px 2px rgba(0,0,0,0.02);\n",
      "    }\n",
      "    a:link, a:visited {\n",
      "        color: #38488f;\n",
      "        text-decoration: none;\n",
      "    }\n",
      "    @media (max-width: 700px) {\n",
      "        div {\n",
      "            margin: 0 auto;\n",
      "            width: auto;\n",
      "        }\n",
      "    }\n",
      "    </style>    \n",
      "</head>\n",
      "\n",
      "<body>\n",
      "<div>\n",
      "    <h1>Example Domain</h1>\n",
      "    <p>This domain is for use in illustrative examples in documents. You may use this\n",
      "    domain in literature without prior coordination or asking for permission.</p>\n",
      "    <p><a href=\"https://www.iana.org/domains/example\">More information...</a></p>\n",
      "</div>\n",
      "</body>\n",
      "</html>\n",
      "\n"
     ]
    }
   ],
   "source": [
    "# variable for the irl\n",
    "url = 'http://www.example.com'\n",
    "\n",
    "\n",
    "# requests library is used to send all types of hhttp requests\n",
    "req = requests.get(url)\n",
    "print(req.text)"
   ]
  },
  {
   "cell_type": "code",
   "execution_count": 7,
   "id": "2aed0b45",
   "metadata": {},
   "outputs": [
    {
     "name": "stdout",
     "output_type": "stream",
     "text": [
      "{'coord': {'lon': -90.1979, 'lat': 38.6273}, 'weather': [{'id': 804, 'main': 'Clouds', 'description': 'overcast clouds', 'icon': '04n'}], 'base': 'stations', 'main': {'temp': 77.88, 'feels_like': 78.85, 'temp_min': 75.88, 'temp_max': 79.32, 'pressure': 1011, 'humidity': 74}, 'visibility': 10000, 'wind': {'speed': 10.11, 'deg': 187, 'gust': 22.3}, 'clouds': {'all': 96}, 'dt': 1634169564, 'sys': {'type': 2, 'id': 2009674, 'country': 'US', 'sunrise': 1634126883, 'sunset': 1634167530}, 'timezone': -18000, 'id': 4407066, 'name': 'St Louis', 'cod': 200}\n"
     ]
    }
   ],
   "source": [
    "base_url=\"http://api.openweathermap.org/data/2.5/weather?units=Imperial&APPID=\" + api_key\n",
    "city='st. louis'\n",
    "\n",
    "# q represents the city \n",
    "req = requests.get(base_url + f'&q={city}')\n",
    "\n",
    "# Can play around with this in your browser\n",
    "print(base_url + f'&q={city}')\n",
    "\n",
    "# create a json output of the data\n",
    "json_data = req.json()\n",
    "print(json_data)"
   ]
  },
  {
   "cell_type": "code",
   "execution_count": 8,
   "id": "a7e52c8e",
   "metadata": {},
   "outputs": [
    {
     "data": {
      "text/plain": [
       "{'temp': 77.88,\n",
       " 'feels_like': 78.85,\n",
       " 'temp_min': 75.88,\n",
       " 'temp_max': 79.32,\n",
       " 'pressure': 1011,\n",
       " 'humidity': 74}"
      ]
     },
     "execution_count": 8,
     "metadata": {},
     "output_type": "execute_result"
    }
   ],
   "source": [
    "json_data['main'] # Gives me the dictionary items from 'main'"
   ]
  },
  {
   "cell_type": "code",
   "execution_count": 9,
   "id": "a9321c09",
   "metadata": {},
   "outputs": [
    {
     "data": {
      "text/plain": [
       "{'lon': -90.1979, 'lat': 38.6273}"
      ]
     },
     "execution_count": 9,
     "metadata": {},
     "output_type": "execute_result"
    }
   ],
   "source": [
    "json_data['coord'] # Gives me the dictionary items from 'coord'"
   ]
  },
  {
   "cell_type": "code",
   "execution_count": 10,
   "id": "04264733",
   "metadata": {},
   "outputs": [
    {
     "data": {
      "text/plain": [
       "'overcast clouds'"
      ]
     },
     "execution_count": 10,
     "metadata": {},
     "output_type": "execute_result"
    }
   ],
   "source": [
    "# Current weather in St. Louis (access the weather at index 0 and pull the description)\n",
    "weather_desc = json_data['weather'][0]['description']\n",
    "weather_desc"
   ]
  },
  {
   "cell_type": "code",
   "execution_count": 12,
   "id": "95e42a36",
   "metadata": {},
   "outputs": [
    {
     "name": "stdout",
     "output_type": "stream",
     "text": [
      "processing denver\n",
      "processing st. louis\n",
      "processing phoenix\n"
     ]
    }
   ],
   "source": [
    "# Create a list of cities\n",
    "cities_list = ['denver', 'st. louis', 'phoenix']\n",
    "\n",
    "# Make a dictionary of terms with keys and empty values (empty list)\n",
    "city_weather = {'city':[],\n",
    "              'humidity':[],\n",
    "              'pressure':[]}\n",
    "\n",
    "# this is the base url copied from earlier\n",
    "base_url=\"http://api.openweathermap.org/data/2.5/weather?units=Imperial&APPID=\" + api_key\n",
    "#city='st. louis'\n",
    "\n",
    "\n",
    "\n",
    "\n",
    "# Loop over the cities in cities_list to our dictionary \n",
    "\n",
    "for city in cities_list:\n",
    "    base_url=\"http://api.openweathermap.org/data/2.5/weather?units=Imperial&APPID=\" + api_key\n",
    "    \n",
    "    try:\n",
    "        req = requests.get(base_url + f'&q={city}')\n",
    "        \n",
    "        data = req.json() # convert to json file\n",
    "        \n",
    "        # add values to our city_weather dictioary\n",
    "        city_weather['city'].append(data['name'])\n",
    "        city_weather['humidity'].append(data['main']['humidity'])\n",
    "        city_weather['pressure'].append(data['main']['pressure'])\n",
    "        \n",
    "        print('processing '+city)\n",
    "    \n",
    "    except:\n",
    "        print(city + 'not found')\n",
    "        pass # We want code to continue to next thing in our loop; we don't want it to just error out and be done\n"
   ]
  },
  {
   "cell_type": "code",
   "execution_count": 13,
   "id": "7f583abe",
   "metadata": {},
   "outputs": [
    {
     "data": {
      "text/plain": [
       "{'city': ['Denver', 'St Louis', 'Phoenix'],\n",
       " 'humidity': [30, 75, 23],\n",
       " 'pressure': [1007, 1011, 1008]}"
      ]
     },
     "execution_count": 13,
     "metadata": {},
     "output_type": "execute_result"
    }
   ],
   "source": [
    "# output above shows we processed denver, st. louis, and phoenix\n",
    "# This si the dictionary I created from the above code\n",
    "city_weather"
   ]
  },
  {
   "cell_type": "code",
   "execution_count": 16,
   "id": "8de36aa6",
   "metadata": {},
   "outputs": [
    {
     "data": {
      "text/html": [
       "<div>\n",
       "<style scoped>\n",
       "    .dataframe tbody tr th:only-of-type {\n",
       "        vertical-align: middle;\n",
       "    }\n",
       "\n",
       "    .dataframe tbody tr th {\n",
       "        vertical-align: top;\n",
       "    }\n",
       "\n",
       "    .dataframe thead th {\n",
       "        text-align: right;\n",
       "    }\n",
       "</style>\n",
       "<table border=\"1\" class=\"dataframe\">\n",
       "  <thead>\n",
       "    <tr style=\"text-align: right;\">\n",
       "      <th></th>\n",
       "      <th>city</th>\n",
       "      <th>humidity</th>\n",
       "      <th>pressure</th>\n",
       "    </tr>\n",
       "  </thead>\n",
       "  <tbody>\n",
       "    <tr>\n",
       "      <th>0</th>\n",
       "      <td>Denver</td>\n",
       "      <td>30</td>\n",
       "      <td>1007</td>\n",
       "    </tr>\n",
       "    <tr>\n",
       "      <th>1</th>\n",
       "      <td>St Louis</td>\n",
       "      <td>75</td>\n",
       "      <td>1011</td>\n",
       "    </tr>\n",
       "    <tr>\n",
       "      <th>2</th>\n",
       "      <td>Phoenix</td>\n",
       "      <td>23</td>\n",
       "      <td>1008</td>\n",
       "    </tr>\n",
       "  </tbody>\n",
       "</table>\n",
       "</div>"
      ],
      "text/plain": [
       "       city  humidity  pressure\n",
       "0    Denver        30      1007\n",
       "1  St Louis        75      1011\n",
       "2   Phoenix        23      1008"
      ]
     },
     "execution_count": 16,
     "metadata": {},
     "output_type": "execute_result"
    }
   ],
   "source": [
    "# Create a data frame, converting it from a dictionary\n",
    "weather_df = pd.DataFrame.from_dict(city_weather)\n",
    "weather_df"
   ]
  }
 ],
 "metadata": {
  "kernelspec": {
   "display_name": "Python 3 (ipykernel)",
   "language": "python",
   "name": "python3"
  },
  "language_info": {
   "codemirror_mode": {
    "name": "ipython",
    "version": 3
   },
   "file_extension": ".py",
   "mimetype": "text/x-python",
   "name": "python",
   "nbconvert_exporter": "python",
   "pygments_lexer": "ipython3",
   "version": "3.9.7"
  }
 },
 "nbformat": 4,
 "nbformat_minor": 5
}
