{
 "cells": [
  {
   "cell_type": "code",
   "execution_count": 1,
   "id": "9def1e12",
   "metadata": {},
   "outputs": [],
   "source": [
    "from api_keys import api_key\n",
    "\n",
    "# import a variable named api_key from the api_keys.py file you created\n",
    "## The file is called api_keys\n",
    "## The interpreter assumes its a .py file, so you do not need to specify in the code"
   ]
  },
  {
   "cell_type": "code",
   "execution_count": 2,
   "id": "77bae370",
   "metadata": {},
   "outputs": [],
   "source": [
    "import requests\n",
    "import pandas as pd"
   ]
  },
  {
   "cell_type": "code",
   "execution_count": 3,
   "id": "88e53f44",
   "metadata": {},
   "outputs": [
    {
     "name": "stdout",
     "output_type": "stream",
     "text": [
      "<!doctype html>\n",
      "<html>\n",
      "<head>\n",
      "    <title>Example Domain</title>\n",
      "\n",
      "    <meta charset=\"utf-8\" />\n",
      "    <meta http-equiv=\"Content-type\" content=\"text/html; charset=utf-8\" />\n",
      "    <meta name=\"viewport\" content=\"width=device-width, initial-scale=1\" />\n",
      "    <style type=\"text/css\">\n",
      "    body {\n",
      "        background-color: #f0f0f2;\n",
      "        margin: 0;\n",
      "        padding: 0;\n",
      "        font-family: -apple-system, system-ui, BlinkMacSystemFont, \"Segoe UI\", \"Open Sans\", \"Helvetica Neue\", Helvetica, Arial, sans-serif;\n",
      "        \n",
      "    }\n",
      "    div {\n",
      "        width: 600px;\n",
      "        margin: 5em auto;\n",
      "        padding: 2em;\n",
      "        background-color: #fdfdff;\n",
      "        border-radius: 0.5em;\n",
      "        box-shadow: 2px 3px 7px 2px rgba(0,0,0,0.02);\n",
      "    }\n",
      "    a:link, a:visited {\n",
      "        color: #38488f;\n",
      "        text-decoration: none;\n",
      "    }\n",
      "    @media (max-width: 700px) {\n",
      "        div {\n",
      "            margin: 0 auto;\n",
      "            width: auto;\n",
      "        }\n",
      "    }\n",
      "    </style>    \n",
      "</head>\n",
      "\n",
      "<body>\n",
      "<div>\n",
      "    <h1>Example Domain</h1>\n",
      "    <p>This domain is for use in illustrative examples in documents. You may use this\n",
      "    domain in literature without prior coordination or asking for permission.</p>\n",
      "    <p><a href=\"https://www.iana.org/domains/example\">More information...</a></p>\n",
      "</div>\n",
      "</body>\n",
      "</html>\n",
      "\n"
     ]
    }
   ],
   "source": [
    "# variable for the irl\n",
    "url = 'http://www.example.com'\n",
    "\n",
    "\n",
    "# requests library is used to send all types of http requests\n",
    "req = requests.get(url)\n",
    "print(req.text)"
   ]
  },
  {
   "cell_type": "code",
   "execution_count": 11,
   "id": "2aed0b45",
   "metadata": {},
   "outputs": [
    {
     "name": "stdout",
     "output_type": "stream",
     "text": [
      "http://api.openweathermap.org/data/2.5/weather?units=Imperial&APPID=1a9ad16288078370dc37e5814b6bd358&q=st. louis\n",
      "<Response [200]>\n",
      "{'coord': {'lon': -90.1979, 'lat': 38.6273}, 'weather': [{'id': 800, 'main': 'Clear', 'description': 'clear sky', 'icon': '01d'}], 'base': 'stations', 'main': {'temp': 63.12, 'feels_like': 61.43, 'temp_min': 61.09, 'temp_max': 65.59, 'pressure': 1023, 'humidity': 49}, 'visibility': 10000, 'wind': {'speed': 3, 'deg': 158, 'gust': 5.99}, 'clouds': {'all': 1}, 'dt': 1634415008, 'sys': {'type': 2, 'id': 2009674, 'country': 'US', 'sunrise': 1634386261, 'sunset': 1634426472}, 'timezone': -18000, 'id': 4407066, 'name': 'St Louis', 'cod': 200}\n"
     ]
    }
   ],
   "source": [
    "base_url=\"http://api.openweathermap.org/data/2.5/weather?units=Imperial&APPID=\" + api_key\n",
    "city='st. louis'\n",
    "\n",
    "# q represents the city \n",
    "req = requests.get(base_url + f'&q={city}') # response 200; good request\n",
    "\n",
    "# Can play around with this in your browser\n",
    "print(base_url + f'&q={city}')\n",
    "print(req)\n",
    "\n",
    "# create a json output of the data\n",
    "json_data = req.json() # request data in json format\n",
    "print(json_data)"
   ]
  },
  {
   "cell_type": "code",
   "execution_count": 8,
   "id": "d0aebc43",
   "metadata": {},
   "outputs": [
    {
     "data": {
      "text/plain": [
       "{'lon': -90.1979, 'lat': 38.6273}"
      ]
     },
     "execution_count": 8,
     "metadata": {},
     "output_type": "execute_result"
    }
   ],
   "source": [
    "json_data['coord'] # Gives me the dictionary items from 'coord'"
   ]
  },
  {
   "cell_type": "code",
   "execution_count": 8,
   "id": "32dc0a86",
   "metadata": {},
   "outputs": [
    {
     "data": {
      "text/plain": [
       "38.6273"
      ]
     },
     "execution_count": 8,
     "metadata": {},
     "output_type": "execute_result"
    }
   ],
   "source": [
    "# only latitude\n",
    "json_data['coord']['lat']"
   ]
  },
  {
   "cell_type": "code",
   "execution_count": 9,
   "id": "fec9c467",
   "metadata": {},
   "outputs": [
    {
     "data": {
      "text/plain": [
       "-90.1979"
      ]
     },
     "execution_count": 9,
     "metadata": {},
     "output_type": "execute_result"
    }
   ],
   "source": [
    "# only longitude\n",
    "json_data['coord']['lon']"
   ]
  },
  {
   "cell_type": "code",
   "execution_count": 9,
   "id": "fda3434a",
   "metadata": {},
   "outputs": [
    {
     "data": {
      "text/plain": [
       "[{'id': 804,\n",
       "  'main': 'Clouds',\n",
       "  'description': 'overcast clouds',\n",
       "  'icon': '04d'}]"
      ]
     },
     "execution_count": 9,
     "metadata": {},
     "output_type": "execute_result"
    }
   ],
   "source": [
    "json_data['weather'] "
   ]
  },
  {
   "cell_type": "code",
   "execution_count": 10,
   "id": "a7573500",
   "metadata": {},
   "outputs": [
    {
     "data": {
      "text/plain": [
       "'stations'"
      ]
     },
     "execution_count": 10,
     "metadata": {},
     "output_type": "execute_result"
    }
   ],
   "source": [
    "json_data['base']"
   ]
  },
  {
   "cell_type": "code",
   "execution_count": 13,
   "id": "a7e52c8e",
   "metadata": {},
   "outputs": [
    {
     "data": {
      "text/plain": [
       "{'temp': 63.12,\n",
       " 'feels_like': 61.43,\n",
       " 'temp_min': 61.09,\n",
       " 'temp_max': 65.59,\n",
       " 'pressure': 1023,\n",
       " 'humidity': 49}"
      ]
     },
     "execution_count": 13,
     "metadata": {},
     "output_type": "execute_result"
    }
   ],
   "source": [
    "json_data['main'] # Gives me the dictionary items from 'main'"
   ]
  },
  {
   "cell_type": "code",
   "execution_count": 14,
   "id": "78c0ec9c",
   "metadata": {},
   "outputs": [
    {
     "data": {
      "text/plain": [
       "65.59"
      ]
     },
     "execution_count": 14,
     "metadata": {},
     "output_type": "execute_result"
    }
   ],
   "source": [
    "json_data['main']['temp_max'] # max temp only"
   ]
  },
  {
   "cell_type": "code",
   "execution_count": 12,
   "id": "a9321c09",
   "metadata": {},
   "outputs": [
    {
     "data": {
      "text/plain": [
       "10000"
      ]
     },
     "execution_count": 12,
     "metadata": {},
     "output_type": "execute_result"
    }
   ],
   "source": [
    "json_data['visibility'] # visibility"
   ]
  },
  {
   "cell_type": "code",
   "execution_count": 13,
   "id": "5f2f7087",
   "metadata": {},
   "outputs": [
    {
     "data": {
      "text/plain": [
       "{'speed': 16.11, 'deg': 340}"
      ]
     },
     "execution_count": 13,
     "metadata": {},
     "output_type": "execute_result"
    }
   ],
   "source": [
    "json_data['wind'] # wind"
   ]
  },
  {
   "cell_type": "code",
   "execution_count": 15,
   "id": "7d10448f",
   "metadata": {},
   "outputs": [
    {
     "data": {
      "text/plain": [
       "3"
      ]
     },
     "execution_count": 15,
     "metadata": {},
     "output_type": "execute_result"
    }
   ],
   "source": [
    "json_data['wind']['speed'] # wind speed"
   ]
  },
  {
   "cell_type": "code",
   "execution_count": 12,
   "id": "fc7601c3",
   "metadata": {},
   "outputs": [
    {
     "data": {
      "text/plain": [
       "1"
      ]
     },
     "execution_count": 12,
     "metadata": {},
     "output_type": "execute_result"
    }
   ],
   "source": [
    "json_data['clouds']['all'] # percent cloudiness"
   ]
  },
  {
   "cell_type": "code",
   "execution_count": 15,
   "id": "b8774ec7",
   "metadata": {},
   "outputs": [
    {
     "data": {
      "text/plain": [
       "1634331961"
      ]
     },
     "execution_count": 15,
     "metadata": {},
     "output_type": "execute_result"
    }
   ],
   "source": [
    "json_data['dt']"
   ]
  },
  {
   "cell_type": "code",
   "execution_count": 16,
   "id": "bc191f73",
   "metadata": {},
   "outputs": [
    {
     "data": {
      "text/plain": [
       "{'type': 2,\n",
       " 'id': 2009674,\n",
       " 'country': 'US',\n",
       " 'sunrise': 1634299801,\n",
       " 'sunset': 1634340157}"
      ]
     },
     "execution_count": 16,
     "metadata": {},
     "output_type": "execute_result"
    }
   ],
   "source": [
    "json_data['sys'] # to find the country variable"
   ]
  },
  {
   "cell_type": "code",
   "execution_count": 17,
   "id": "eaf563e1",
   "metadata": {},
   "outputs": [
    {
     "data": {
      "text/plain": [
       "-18000"
      ]
     },
     "execution_count": 17,
     "metadata": {},
     "output_type": "execute_result"
    }
   ],
   "source": [
    "json_data['timezone']"
   ]
  },
  {
   "cell_type": "code",
   "execution_count": 18,
   "id": "5c251212",
   "metadata": {},
   "outputs": [
    {
     "data": {
      "text/plain": [
       "4407066"
      ]
     },
     "execution_count": 18,
     "metadata": {},
     "output_type": "execute_result"
    }
   ],
   "source": [
    "json_data['id']"
   ]
  },
  {
   "cell_type": "code",
   "execution_count": 19,
   "id": "aa92ed6b",
   "metadata": {},
   "outputs": [
    {
     "data": {
      "text/plain": [
       "'St Louis'"
      ]
     },
     "execution_count": 19,
     "metadata": {},
     "output_type": "execute_result"
    }
   ],
   "source": [
    "json_data['name']"
   ]
  },
  {
   "cell_type": "code",
   "execution_count": 20,
   "id": "3d461dc0",
   "metadata": {},
   "outputs": [
    {
     "data": {
      "text/plain": [
       "200"
      ]
     },
     "execution_count": 20,
     "metadata": {},
     "output_type": "execute_result"
    }
   ],
   "source": [
    "json_data['cod']"
   ]
  },
  {
   "cell_type": "code",
   "execution_count": 7,
   "id": "04264733",
   "metadata": {},
   "outputs": [
    {
     "name": "stdout",
     "output_type": "stream",
     "text": [
      "{'id': 801, 'main': 'Clouds', 'description': 'few clouds', 'icon': '02d'}\n",
      "few clouds\n",
      "US\n"
     ]
    }
   ],
   "source": [
    "# Current weather in St. Louis (access the weather at index 0 and pull the description)\n",
    "\n",
    "# The weather is a list, so we can pull the index\n",
    "weather_desc0 = json_data['weather'][0]#['description']\n",
    "print(weather_desc0)\n",
    "\n",
    "weather_desc = json_data['weather'][0]['description']\n",
    "print(weather_desc)\n",
    "\n",
    "country = json_data['sys']['country'] # we don't need an index to pull this one because it is a dictionary\n",
    "print(country)"
   ]
  },
  {
   "cell_type": "code",
   "execution_count": 6,
   "id": "95e42a36",
   "metadata": {},
   "outputs": [
    {
     "name": "stdout",
     "output_type": "stream",
     "text": [
      "denvernot found\n",
      "st. louisnot found\n",
      "phoenixnot found\n"
     ]
    }
   ],
   "source": [
    "# Create a list of cities\n",
    "cities_list = ['denver', 'st. louis', 'phoenix']\n",
    "\n",
    "# Make a dictionary of terms with keys and empty values (empty list)\n",
    "city_weather2 = {'City':[],\n",
    "              'Country':[],\n",
    "                'Latitude':[],\n",
    "                'Longitude':[],\n",
    "              'Cloudiness':[],\n",
    "               'Humidity':[],\n",
    "               'Max Temperature':[],\n",
    "               'Wind Speed':[],\n",
    "               'Pressure':[],\n",
    "               'Date':[]}\n",
    "\n",
    "# this is the base url copied from earlier\n",
    "base_url=\"http://api.openweathermap.org/data/2.5/weather?units=Imperial&APPID=\" + api_key\n",
    "#city='st. louis'\n",
    "\n",
    "\n",
    "\n",
    "\n",
    "# Loop over the cities in cities_list to our dictionary \n",
    "\n",
    "for city in cities_list:\n",
    "    base_url=\"http://api.openweathermap.org/data/2.5/weather?units=Imperial&APPID=\" + api_key\n",
    "    \n",
    "    try:\n",
    "        req = requests.get(base_url + f'&q={city}')\n",
    "        \n",
    "        data = req.json() # convert to json file\n",
    "        \n",
    "        # add values to our city_weather dictioary\n",
    "        city_weather2['city'].append(data['name'])\n",
    "        city_weather2['country'].append(data['sys']['country'])\n",
    "        city_weather2['humidity'].append(data['main']['humidity'])\n",
    "        city_weather2['pressure'].append(data['main']['pressure'])\n",
    "        \n",
    "        print('processing '+city)\n",
    "    \n",
    "    except:\n",
    "        print(city + 'not found')\n",
    "        pass # We want code to continue to next thing in our loop; we don't want it to just error out and be done\n"
   ]
  },
  {
   "cell_type": "code",
   "execution_count": null,
   "id": "8cb9e3a2",
   "metadata": {},
   "outputs": [],
   "source": [
    "## output above shows we processed denver, st. louis, and phoenix\n",
    "# This si the dictionary I created from the above code\n",
    "city_weather"
   ]
  },
  {
   "cell_type": "code",
   "execution_count": 16,
   "id": "8de36aa6",
   "metadata": {},
   "outputs": [
    {
     "data": {
      "text/html": [
       "<div>\n",
       "<style scoped>\n",
       "    .dataframe tbody tr th:only-of-type {\n",
       "        vertical-align: middle;\n",
       "    }\n",
       "\n",
       "    .dataframe tbody tr th {\n",
       "        vertical-align: top;\n",
       "    }\n",
       "\n",
       "    .dataframe thead th {\n",
       "        text-align: right;\n",
       "    }\n",
       "</style>\n",
       "<table border=\"1\" class=\"dataframe\">\n",
       "  <thead>\n",
       "    <tr style=\"text-align: right;\">\n",
       "      <th></th>\n",
       "      <th>city</th>\n",
       "      <th>humidity</th>\n",
       "      <th>pressure</th>\n",
       "    </tr>\n",
       "  </thead>\n",
       "  <tbody>\n",
       "    <tr>\n",
       "      <th>0</th>\n",
       "      <td>Denver</td>\n",
       "      <td>30</td>\n",
       "      <td>1007</td>\n",
       "    </tr>\n",
       "    <tr>\n",
       "      <th>1</th>\n",
       "      <td>St Louis</td>\n",
       "      <td>75</td>\n",
       "      <td>1011</td>\n",
       "    </tr>\n",
       "    <tr>\n",
       "      <th>2</th>\n",
       "      <td>Phoenix</td>\n",
       "      <td>23</td>\n",
       "      <td>1008</td>\n",
       "    </tr>\n",
       "  </tbody>\n",
       "</table>\n",
       "</div>"
      ],
      "text/plain": [
       "       city  humidity  pressure\n",
       "0    Denver        30      1007\n",
       "1  St Louis        75      1011\n",
       "2   Phoenix        23      1008"
      ]
     },
     "execution_count": 16,
     "metadata": {},
     "output_type": "execute_result"
    }
   ],
   "source": [
    "# Create a data frame, converting it from a dictionary\n",
    "weather_df = pd.DataFrame.from_dict(city_weather)\n",
    "weather_df"
   ]
  },
  {
   "cell_type": "code",
   "execution_count": 43,
   "id": "96f7ab46",
   "metadata": {},
   "outputs": [
    {
     "name": "stdout",
     "output_type": "stream",
     "text": [
      "processing apples 0\n",
      "processing grapes 1\n",
      "processing bananas 2\n",
      "processing strawberries 3\n"
     ]
    }
   ],
   "source": [
    "# Testing \n",
    "test_list = ['apples', 'grapes', 'bananas', 'strawberries']\n",
    "test_dict = {'Fruit_name':[],\n",
    "            'Date':[]}\n",
    "\n",
    "#today = print(date.today())\n",
    "\n",
    "for fruit in test_list:\n",
    "    test_dict['Fruit_name'].append(fruit)\n",
    "    test_dict['Date'].append(date.today().strftime(\"%Y-%m-%d\"))\n",
    "    \n",
    "    print('processing '+ fruit + \" \" + str(test_list.index(fruit)))\n",
    "    #print(test_list.index(fruit))"
   ]
  },
  {
   "cell_type": "code",
   "execution_count": null,
   "id": "421a1b1e",
   "metadata": {},
   "outputs": [],
   "source": [
    "test_list"
   ]
  },
  {
   "cell_type": "code",
   "execution_count": 44,
   "id": "22b3c9db",
   "metadata": {},
   "outputs": [
    {
     "data": {
      "text/plain": [
       "{'Fruit_name': ['apples', 'grapes', 'bananas', 'strawberries'],\n",
       " 'Date': ['2021-10-16', '2021-10-16', '2021-10-16', '2021-10-16']}"
      ]
     },
     "execution_count": 44,
     "metadata": {},
     "output_type": "execute_result"
    }
   ],
   "source": [
    "test_dict"
   ]
  },
  {
   "cell_type": "code",
   "execution_count": 33,
   "id": "b89b3c4f",
   "metadata": {},
   "outputs": [
    {
     "name": "stdout",
     "output_type": "stream",
     "text": [
      "Today's date: 2021-10-16\n"
     ]
    }
   ],
   "source": [
    "from datetime import date\n",
    "\n",
    "today = date.today()\n",
    "print(\"Today's date:\", today)"
   ]
  },
  {
   "cell_type": "code",
   "execution_count": 42,
   "id": "481af116",
   "metadata": {},
   "outputs": [
    {
     "data": {
      "text/plain": [
       "'2021-10-16'"
      ]
     },
     "execution_count": 42,
     "metadata": {},
     "output_type": "execute_result"
    }
   ],
   "source": [
    "date.today().strftime(\"%Y-%m-%d\")"
   ]
  }
 ],
 "metadata": {
  "kernelspec": {
   "display_name": "Python 3 (ipykernel)",
   "language": "python",
   "name": "python3"
  },
  "language_info": {
   "codemirror_mode": {
    "name": "ipython",
    "version": 3
   },
   "file_extension": ".py",
   "mimetype": "text/x-python",
   "name": "python",
   "nbconvert_exporter": "python",
   "pygments_lexer": "ipython3",
   "version": "3.9.7"
  }
 },
 "nbformat": 4,
 "nbformat_minor": 5
}
